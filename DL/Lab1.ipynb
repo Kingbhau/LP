{
 "cells": [
  {
   "cell_type": "markdown",
   "id": "93bc70d8",
   "metadata": {},
   "source": [
    "Name: Gauri Bankar         Roll No.: BE_A_66\n",
    "Problem Statement: Linear regression by using Deep Neural network: Implement Boston housing price prediction problem by Linear regression using Deep Neural network. Use Boston House price prediction dataset."
   ]
  },
  {
   "cell_type": "code",
   "execution_count": 1,
   "id": "dec08729",
   "metadata": {},
   "outputs": [],
   "source": [
    "import tensorflow as tf\n",
    "import pandas as pd\n",
    "from tensorflow.keras.datasets import boston_housing\n",
    "from sklearn import preprocessing"
   ]
  },
  {
   "cell_type": "code",
   "execution_count": 2,
   "id": "d857ed5f",
   "metadata": {},
   "outputs": [
    {
     "name": "stdout",
     "output_type": "stream",
     "text": [
      "Downloading data from https://storage.googleapis.com/tensorflow/tf-keras-datasets/boston_housing.npz\n",
      "57026/57026 [==============================] - 0s 1us/step\n"
     ]
    }
   ],
   "source": [
    "(train_x,train_y),(test_x,test_y)=boston_housing.load_data()"
   ]
  },
  {
   "cell_type": "code",
   "execution_count": 3,
   "id": "6a7f0219",
   "metadata": {},
   "outputs": [
    {
     "data": {
      "text/plain": [
       "((array([[1.23247e+00, 0.00000e+00, 8.14000e+00, ..., 2.10000e+01,\n",
       "          3.96900e+02, 1.87200e+01],\n",
       "         [2.17700e-02, 8.25000e+01, 2.03000e+00, ..., 1.47000e+01,\n",
       "          3.95380e+02, 3.11000e+00],\n",
       "         [4.89822e+00, 0.00000e+00, 1.81000e+01, ..., 2.02000e+01,\n",
       "          3.75520e+02, 3.26000e+00],\n",
       "         ...,\n",
       "         [3.46600e-02, 3.50000e+01, 6.06000e+00, ..., 1.69000e+01,\n",
       "          3.62250e+02, 7.83000e+00],\n",
       "         [2.14918e+00, 0.00000e+00, 1.95800e+01, ..., 1.47000e+01,\n",
       "          2.61950e+02, 1.57900e+01],\n",
       "         [1.43900e-02, 6.00000e+01, 2.93000e+00, ..., 1.56000e+01,\n",
       "          3.76700e+02, 4.38000e+00]]),\n",
       "  array([15.2, 42.3, 50. , 21.1, 17.7, 18.5, 11.3, 15.6, 15.6, 14.4, 12.1,\n",
       "         17.9, 23.1, 19.9, 15.7,  8.8, 50. , 22.5, 24.1, 27.5, 10.9, 30.8,\n",
       "         32.9, 24. , 18.5, 13.3, 22.9, 34.7, 16.6, 17.5, 22.3, 16.1, 14.9,\n",
       "         23.1, 34.9, 25. , 13.9, 13.1, 20.4, 20. , 15.2, 24.7, 22.2, 16.7,\n",
       "         12.7, 15.6, 18.4, 21. , 30.1, 15.1, 18.7,  9.6, 31.5, 24.8, 19.1,\n",
       "         22. , 14.5, 11. , 32. , 29.4, 20.3, 24.4, 14.6, 19.5, 14.1, 14.3,\n",
       "         15.6, 10.5,  6.3, 19.3, 19.3, 13.4, 36.4, 17.8, 13.5, 16.5,  8.3,\n",
       "         14.3, 16. , 13.4, 28.6, 43.5, 20.2, 22. , 23. , 20.7, 12.5, 48.5,\n",
       "         14.6, 13.4, 23.7, 50. , 21.7, 39.8, 38.7, 22.2, 34.9, 22.5, 31.1,\n",
       "         28.7, 46. , 41.7, 21. , 26.6, 15. , 24.4, 13.3, 21.2, 11.7, 21.7,\n",
       "         19.4, 50. , 22.8, 19.7, 24.7, 36.2, 14.2, 18.9, 18.3, 20.6, 24.6,\n",
       "         18.2,  8.7, 44. , 10.4, 13.2, 21.2, 37. , 30.7, 22.9, 20. , 19.3,\n",
       "         31.7, 32. , 23.1, 18.8, 10.9, 50. , 19.6,  5. , 14.4, 19.8, 13.8,\n",
       "         19.6, 23.9, 24.5, 25. , 19.9, 17.2, 24.6, 13.5, 26.6, 21.4, 11.9,\n",
       "         22.6, 19.6,  8.5, 23.7, 23.1, 22.4, 20.5, 23.6, 18.4, 35.2, 23.1,\n",
       "         27.9, 20.6, 23.7, 28. , 13.6, 27.1, 23.6, 20.6, 18.2, 21.7, 17.1,\n",
       "          8.4, 25.3, 13.8, 22.2, 18.4, 20.7, 31.6, 30.5, 20.3,  8.8, 19.2,\n",
       "         19.4, 23.1, 23. , 14.8, 48.8, 22.6, 33.4, 21.1, 13.6, 32.2, 13.1,\n",
       "         23.4, 18.9, 23.9, 11.8, 23.3, 22.8, 19.6, 16.7, 13.4, 22.2, 20.4,\n",
       "         21.8, 26.4, 14.9, 24.1, 23.8, 12.3, 29.1, 21. , 19.5, 23.3, 23.8,\n",
       "         17.8, 11.5, 21.7, 19.9, 25. , 33.4, 28.5, 21.4, 24.3, 27.5, 33.1,\n",
       "         16.2, 23.3, 48.3, 22.9, 22.8, 13.1, 12.7, 22.6, 15. , 15.3, 10.5,\n",
       "         24. , 18.5, 21.7, 19.5, 33.2, 23.2,  5. , 19.1, 12.7, 22.3, 10.2,\n",
       "         13.9, 16.3, 17. , 20.1, 29.9, 17.2, 37.3, 45.4, 17.8, 23.2, 29. ,\n",
       "         22. , 18. , 17.4, 34.6, 20.1, 25. , 15.6, 24.8, 28.2, 21.2, 21.4,\n",
       "         23.8, 31. , 26.2, 17.4, 37.9, 17.5, 20. ,  8.3, 23.9,  8.4, 13.8,\n",
       "          7.2, 11.7, 17.1, 21.6, 50. , 16.1, 20.4, 20.6, 21.4, 20.6, 36.5,\n",
       "          8.5, 24.8, 10.8, 21.9, 17.3, 18.9, 36.2, 14.9, 18.2, 33.3, 21.8,\n",
       "         19.7, 31.6, 24.8, 19.4, 22.8,  7.5, 44.8, 16.8, 18.7, 50. , 50. ,\n",
       "         19.5, 20.1, 50. , 17.2, 20.8, 19.3, 41.3, 20.4, 20.5, 13.8, 16.5,\n",
       "         23.9, 20.6, 31.5, 23.3, 16.8, 14. , 33.8, 36.1, 12.8, 18.3, 18.7,\n",
       "         19.1, 29. , 30.1, 50. , 50. , 22. , 11.9, 37.6, 50. , 22.7, 20.8,\n",
       "         23.5, 27.9, 50. , 19.3, 23.9, 22.6, 15.2, 21.7, 19.2, 43.8, 20.3,\n",
       "         33.2, 19.9, 22.5, 32.7, 22. , 17.1, 19. , 15. , 16.1, 25.1, 23.7,\n",
       "         28.7, 37.2, 22.6, 16.4, 25. , 29.8, 22.1, 17.4, 18.1, 30.3, 17.5,\n",
       "         24.7, 12.6, 26.5, 28.7, 13.3, 10.4, 24.4, 23. , 20. , 17.8,  7. ,\n",
       "         11.8, 24.4, 13.8, 19.4, 25.2, 19.4, 19.4, 29.1])),\n",
       " (array([[1.80846e+01, 0.00000e+00, 1.81000e+01, ..., 2.02000e+01,\n",
       "          2.72500e+01, 2.90500e+01],\n",
       "         [1.23290e-01, 0.00000e+00, 1.00100e+01, ..., 1.78000e+01,\n",
       "          3.94950e+02, 1.62100e+01],\n",
       "         [5.49700e-02, 0.00000e+00, 5.19000e+00, ..., 2.02000e+01,\n",
       "          3.96900e+02, 9.74000e+00],\n",
       "         ...,\n",
       "         [1.83377e+00, 0.00000e+00, 1.95800e+01, ..., 1.47000e+01,\n",
       "          3.89610e+02, 1.92000e+00],\n",
       "         [3.58090e-01, 0.00000e+00, 6.20000e+00, ..., 1.74000e+01,\n",
       "          3.91700e+02, 9.71000e+00],\n",
       "         [2.92400e+00, 0.00000e+00, 1.95800e+01, ..., 1.47000e+01,\n",
       "          2.40160e+02, 9.81000e+00]]),\n",
       "  array([ 7.2, 18.8, 19. , 27. , 22.2, 24.5, 31.2, 22.9, 20.5, 23.2, 18.6,\n",
       "         14.5, 17.8, 50. , 20.8, 24.3, 24.2, 19.8, 19.1, 22.7, 12. , 10.2,\n",
       "         20. , 18.5, 20.9, 23. , 27.5, 30.1,  9.5, 22. , 21.2, 14.1, 33.1,\n",
       "         23.4, 20.1,  7.4, 15.4, 23.8, 20.1, 24.5, 33. , 28.4, 14.1, 46.7,\n",
       "         32.5, 29.6, 28.4, 19.8, 20.2, 25. , 35.4, 20.3,  9.7, 14.5, 34.9,\n",
       "         26.6,  7.2, 50. , 32.4, 21.6, 29.8, 13.1, 27.5, 21.2, 23.1, 21.9,\n",
       "         13. , 23.2,  8.1,  5.6, 21.7, 29.6, 19.6,  7. , 26.4, 18.9, 20.9,\n",
       "         28.1, 35.4, 10.2, 24.3, 43.1, 17.6, 15.4, 16.2, 27.1, 21.4, 21.5,\n",
       "         22.4, 25. , 16.6, 18.6, 22. , 42.8, 35.1, 21.5, 36. , 21.9, 24.1,\n",
       "         50. , 26.7, 25. ])))"
      ]
     },
     "execution_count": 3,
     "metadata": {},
     "output_type": "execute_result"
    }
   ],
   "source": [
    "df = boston_housing.load_data()\n",
    "df"
   ]
  },
  {
   "cell_type": "code",
   "execution_count": 4,
   "id": "c664161b",
   "metadata": {},
   "outputs": [
    {
     "name": "stdout",
     "output_type": "stream",
     "text": [
      "train shape:  (404, 13)\n",
      "test shape:  (102, 13)\n",
      "actual train output: (404,)\n",
      "actual test output: (102,)\n"
     ]
    }
   ],
   "source": [
    "print(\"train shape: \",train_x.shape)\n",
    "print(\"test shape: \",test_x.shape)\n",
    "print(\"actual train output:\",train_y.shape)\n",
    "print(\"actual test output:\",test_y.shape)"
   ]
  },
  {
   "cell_type": "code",
   "execution_count": 5,
   "id": "3e6cd10e",
   "metadata": {},
   "outputs": [],
   "source": [
    "#normalization for preprocessing\n",
    "train_x=preprocessing.normalize(train_x)\n",
    "test_x=preprocessing.normalize(test_x)"
   ]
  },
  {
   "cell_type": "code",
   "execution_count": 6,
   "id": "c1c3fcb3",
   "metadata": {},
   "outputs": [],
   "source": [
    "from tensorflow.python import metrics\n",
    "from tensorflow.keras.models import Sequential\n",
    "from tensorflow.keras.layers import *\n",
    "def HousePricePredictionModel():  \n",
    "\tmodel=Sequential()\n",
    "\tmodel.add(Dense(128,activation='relu',input_shape=(train_x[0].shape)))\n",
    "\tmodel.add(Dense(64,activation='relu'))\n",
    "\tmodel.add(Dense(32,activation='relu'))\n",
    "\tmodel.add(Dense(1))\n",
    "\tmodel.compile(optimizer='adam',loss='mse',metrics=['mae'])\n",
    "\treturn model"
   ]
  },
  {
   "cell_type": "code",
   "execution_count": 7,
   "id": "d55cfd2b",
   "metadata": {},
   "outputs": [],
   "source": [
    "import numpy as np\n",
    "k=4\n",
    "num_val_samples=len(train_x)\n",
    "num_epochs=100\n",
    "all_scores=[]"
   ]
  },
  {
   "cell_type": "code",
   "execution_count": null,
   "id": "d96f40b9",
   "metadata": {},
   "outputs": [
    {
     "name": "stdout",
     "output_type": "stream",
     "text": [
      "Epoch 1/100\n",
      "404/404 [==============================] - 2s 3ms/step - loss: 150.5644 - mae: 8.8527 - val_loss: 69.9789 - val_mae: 6.3974\n",
      "Epoch 2/100\n",
      "404/404 [==============================] - 1s 3ms/step - loss: 67.2356 - mae: 5.6805 - val_loss: 58.7495 - val_mae: 5.7424\n",
      "Epoch 3/100\n",
      "404/404 [==============================] - 2s 5ms/step - loss: 60.9705 - mae: 5.3772 - val_loss: 54.6993 - val_mae: 5.4716\n",
      "Epoch 4/100\n",
      "404/404 [==============================] - 2s 6ms/step - loss: 59.2856 - mae: 5.3802 - val_loss: 59.3232 - val_mae: 5.4888\n",
      "Epoch 5/100\n",
      "404/404 [==============================] - 2s 6ms/step - loss: 57.4548 - mae: 5.1904 - val_loss: 51.7861 - val_mae: 5.2931\n",
      "Epoch 6/100\n",
      "404/404 [==============================] - 3s 6ms/step - loss: 54.7915 - mae: 5.1407 - val_loss: 58.6287 - val_mae: 5.3831\n",
      "Epoch 7/100\n",
      "404/404 [==============================] - 3s 6ms/step - loss: 54.0941 - mae: 5.0416 - val_loss: 49.3488 - val_mae: 5.1779\n",
      "Epoch 8/100\n",
      "404/404 [==============================] - 3s 6ms/step - loss: 50.7004 - mae: 4.9298 - val_loss: 47.7349 - val_mae: 4.9510\n",
      "Epoch 9/100\n",
      "404/404 [==============================] - 2s 4ms/step - loss: 50.2841 - mae: 4.9145 - val_loss: 46.4448 - val_mae: 4.9486\n",
      "Epoch 10/100\n",
      "404/404 [==============================] - 1s 3ms/step - loss: 47.6291 - mae: 4.6069 - val_loss: 55.6795 - val_mae: 6.0213\n",
      "Epoch 11/100\n",
      "404/404 [==============================] - 2s 4ms/step - loss: 44.6195 - mae: 4.5790 - val_loss: 42.7127 - val_mae: 4.5516\n",
      "Epoch 12/100\n",
      "404/404 [==============================] - 1s 2ms/step - loss: 43.4160 - mae: 4.4985 - val_loss: 39.9980 - val_mae: 4.5123\n",
      "Epoch 13/100\n",
      "404/404 [==============================] - 1s 3ms/step - loss: 41.1740 - mae: 4.4064 - val_loss: 55.8148 - val_mae: 5.2837\n",
      "Epoch 14/100\n",
      "404/404 [==============================] - 2s 4ms/step - loss: 38.0072 - mae: 4.2586 - val_loss: 45.8995 - val_mae: 4.6969\n",
      "Epoch 15/100\n",
      "404/404 [==============================] - 2s 5ms/step - loss: 38.9918 - mae: 4.4061 - val_loss: 33.8573 - val_mae: 4.0129\n",
      "Epoch 16/100\n",
      "404/404 [==============================] - 1s 3ms/step - loss: 35.9457 - mae: 4.2297 - val_loss: 32.2215 - val_mae: 3.9166\n",
      "Epoch 17/100\n",
      "404/404 [==============================] - 1s 2ms/step - loss: 35.2840 - mae: 4.1882 - val_loss: 33.3575 - val_mae: 3.9792\n",
      "Epoch 18/100\n",
      "404/404 [==============================] - 1s 3ms/step - loss: 32.3664 - mae: 3.9843 - val_loss: 32.8329 - val_mae: 3.9540\n",
      "Epoch 19/100\n",
      "404/404 [==============================] - 3s 7ms/step - loss: 33.5462 - mae: 4.1292 - val_loss: 32.3796 - val_mae: 4.3896\n",
      "Epoch 20/100\n",
      "404/404 [==============================] - 2s 4ms/step - loss: 29.9295 - mae: 3.9720 - val_loss: 30.0040 - val_mae: 4.0688\n",
      "Epoch 21/100\n",
      "404/404 [==============================] - 2s 4ms/step - loss: 30.0052 - mae: 3.9079 - val_loss: 46.0493 - val_mae: 5.9089\n",
      "Epoch 22/100\n",
      "404/404 [==============================] - 1s 2ms/step - loss: 29.0536 - mae: 3.9229 - val_loss: 37.4449 - val_mae: 4.2690\n",
      "Epoch 23/100\n",
      "404/404 [==============================] - 1s 3ms/step - loss: 28.5335 - mae: 3.8746 - val_loss: 36.1685 - val_mae: 4.2151\n",
      "Epoch 24/100\n",
      "404/404 [==============================] - 1s 2ms/step - loss: 27.2163 - mae: 3.7867 - val_loss: 29.0574 - val_mae: 3.7991\n",
      "Epoch 25/100\n",
      "404/404 [==============================] - 2s 5ms/step - loss: 27.1815 - mae: 3.7841 - val_loss: 43.3736 - val_mae: 4.6638\n",
      "Epoch 26/100\n",
      "404/404 [==============================] - 2s 6ms/step - loss: 24.0320 - mae: 3.5849 - val_loss: 32.5200 - val_mae: 4.0337\n",
      "Epoch 27/100\n",
      "404/404 [==============================] - 1s 2ms/step - loss: 23.8303 - mae: 3.6415 - val_loss: 26.2394 - val_mae: 3.7266\n",
      "Epoch 28/100\n",
      "404/404 [==============================] - 1s 2ms/step - loss: 23.1001 - mae: 3.5498 - val_loss: 28.7776 - val_mae: 3.8433\n",
      "Epoch 29/100\n",
      "404/404 [==============================] - 1s 3ms/step - loss: 22.8442 - mae: 3.6031 - val_loss: 38.7499 - val_mae: 4.3406\n",
      "Epoch 30/100\n",
      "404/404 [==============================] - 1s 4ms/step - loss: 22.3210 - mae: 3.5057 - val_loss: 28.8824 - val_mae: 3.9683\n",
      "Epoch 31/100\n",
      "404/404 [==============================] - 2s 6ms/step - loss: 21.8151 - mae: 3.4821 - val_loss: 29.3955 - val_mae: 3.8352\n",
      "Epoch 32/100\n",
      "404/404 [==============================] - 2s 5ms/step - loss: 22.2291 - mae: 3.5216 - val_loss: 27.9770 - val_mae: 3.8283\n",
      "Epoch 33/100\n",
      "404/404 [==============================] - 2s 5ms/step - loss: 20.9325 - mae: 3.3462 - val_loss: 26.7988 - val_mae: 3.6607\n",
      "Epoch 34/100\n",
      "404/404 [==============================] - 1s 3ms/step - loss: 19.3496 - mae: 3.2387 - val_loss: 31.3906 - val_mae: 3.9581\n",
      "Epoch 35/100\n",
      "404/404 [==============================] - 1s 4ms/step - loss: 20.3348 - mae: 3.2397 - val_loss: 29.1644 - val_mae: 3.7750\n",
      "Epoch 36/100\n",
      "404/404 [==============================] - 1s 3ms/step - loss: 20.1154 - mae: 3.3516 - val_loss: 36.5660 - val_mae: 4.2985\n",
      "Epoch 37/100\n",
      "404/404 [==============================] - 1s 3ms/step - loss: 19.4334 - mae: 3.2451 - val_loss: 28.1150 - val_mae: 3.7261\n",
      "Epoch 38/100\n",
      "404/404 [==============================] - 2s 4ms/step - loss: 20.4045 - mae: 3.2133 - val_loss: 27.7929 - val_mae: 3.6597\n",
      "Epoch 39/100\n",
      "404/404 [==============================] - 3s 7ms/step - loss: 18.2343 - mae: 3.1328 - val_loss: 28.5287 - val_mae: 3.7137\n",
      "Epoch 40/100\n",
      "404/404 [==============================] - 2s 4ms/step - loss: 20.7773 - mae: 3.3160 - val_loss: 31.1538 - val_mae: 3.9102\n",
      "Epoch 41/100\n",
      "404/404 [==============================] - 1s 2ms/step - loss: 16.7085 - mae: 3.0002 - val_loss: 29.1452 - val_mae: 3.9726\n",
      "Epoch 42/100\n",
      "404/404 [==============================] - 1s 3ms/step - loss: 18.4349 - mae: 3.1483 - val_loss: 40.5779 - val_mae: 4.6893\n",
      "Epoch 43/100\n",
      "404/404 [==============================] - 2s 5ms/step - loss: 21.8543 - mae: 3.3357 - val_loss: 34.6454 - val_mae: 4.1787\n",
      "Epoch 44/100\n",
      "404/404 [==============================] - 3s 7ms/step - loss: 17.9121 - mae: 3.1216 - val_loss: 32.8212 - val_mae: 3.9220\n",
      "Epoch 45/100\n",
      "404/404 [==============================] - 2s 5ms/step - loss: 17.1380 - mae: 2.9710 - val_loss: 27.8570 - val_mae: 3.6957\n",
      "Epoch 46/100\n",
      "404/404 [==============================] - 2s 6ms/step - loss: 17.5385 - mae: 3.0488 - val_loss: 32.6209 - val_mae: 4.0529\n",
      "Epoch 47/100\n",
      "404/404 [==============================] - 1s 2ms/step - loss: 19.0422 - mae: 3.1805 - val_loss: 41.7912 - val_mae: 4.7409\n",
      "Epoch 48/100\n",
      "404/404 [==============================] - 1s 2ms/step - loss: 19.6540 - mae: 3.1773 - val_loss: 30.6824 - val_mae: 3.7856\n",
      "Epoch 49/100\n",
      "404/404 [==============================] - 1s 2ms/step - loss: 17.7581 - mae: 3.0326 - val_loss: 28.4451 - val_mae: 3.6662\n",
      "Epoch 50/100\n",
      "404/404 [==============================] - 2s 4ms/step - loss: 17.7849 - mae: 3.0998 - val_loss: 38.9401 - val_mae: 4.4042\n",
      "Epoch 51/100\n",
      "404/404 [==============================] - 1s 2ms/step - loss: 19.0707 - mae: 3.1225 - val_loss: 30.1403 - val_mae: 3.7655\n",
      "Epoch 52/100\n",
      "339/404 [========================>.....] - ETA: 0s - loss: 17.8361 - mae: 3.0708"
     ]
    }
   ],
   "source": [
    "model= HousePricePredictionModel()\n",
    "history=model.fit(x=train_x,y=train_y,epochs=num_epochs,batch_size=1,verbose=1,validation_data=(test_x,test_y))"
   ]
  },
  {
   "cell_type": "code",
   "execution_count": null,
   "id": "ddfaa157",
   "metadata": {},
   "outputs": [],
   "source": [
    "mse, mae = model.evaluate(test_x, test_y)\n",
    "print('Mean squared error on test data: ', mse)\n",
    "print('Mean absolute error on test data: ', mae)"
   ]
  },
  {
   "cell_type": "code",
   "execution_count": null,
   "id": "2c35b267",
   "metadata": {},
   "outputs": [],
   "source": []
  },
  {
   "cell_type": "code",
   "execution_count": null,
   "id": "12ab9568",
   "metadata": {},
   "outputs": [],
   "source": []
  }
 ],
 "metadata": {
  "kernelspec": {
   "display_name": "Python 3 (ipykernel)",
   "language": "python",
   "name": "python3"
  },
  "language_info": {
   "codemirror_mode": {
    "name": "ipython",
    "version": 3
   },
   "file_extension": ".py",
   "mimetype": "text/x-python",
   "name": "python",
   "nbconvert_exporter": "python",
   "pygments_lexer": "ipython3",
   "version": "3.10.9"
  }
 },
 "nbformat": 4,
 "nbformat_minor": 5
}
